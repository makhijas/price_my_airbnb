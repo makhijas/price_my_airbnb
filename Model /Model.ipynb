{
 "cells": [
  {
   "cell_type": "code",
   "execution_count": 11,
   "metadata": {},
   "outputs": [
    {
     "name": "stderr",
     "output_type": "stream",
     "text": [
      "/Users/swatimakhija/anaconda3/lib/python3.6/site-packages/IPython/core/interactiveshell.py:2728: DtypeWarning: Columns (43) have mixed types. Specify dtype option on import or set low_memory=False.\n",
      "  interactivity=interactivity, compiler=compiler, result=result)\n"
     ]
    },
    {
     "data": {
      "text/plain": [
       "8290"
      ]
     },
     "execution_count": 11,
     "metadata": {},
     "output_type": "execute_result"
    }
   ],
   "source": [
    "%matplotlib inline\n",
    "import pandas as pd\n",
    "import numpy as np\n",
    "from sklearn import ensemble\n",
    "from sklearn import linear_model\n",
    "from sklearn.grid_search import GridSearchCV\n",
    "from sklearn import preprocessing\n",
    "from sklearn.cross_validation import train_test_split\n",
    "import sklearn.metrics as metrics\n",
    "import matplotlib.pyplot as plt\n",
    "from collections import Counter\n",
    "\n",
    "rawdata = 'data/listings.csv'\n",
    "\n",
    "cols = ['price',\n",
    "        'accommodates',\n",
    "        'bedrooms',\n",
    "        'beds',\n",
    "        'neighbourhood_cleansed',\n",
    "        'room_type',\n",
    "        'cancellation_policy',\n",
    "        'instant_bookable',\n",
    "        'reviews_per_month',\n",
    "        'number_of_reviews',\n",
    "        'availability_30',\n",
    "        'review_scores_rating'\n",
    "        ]\n",
    "\n",
    "# read the file into a dataframe\n",
    "#df = pd.read_csv(rawdata, usecols=cols)\n",
    "df = pd.read_csv(rawdata)\n",
    "\n",
    "len(df.index)"
   ]
  },
  {
   "cell_type": "code",
   "execution_count": 12,
   "metadata": {},
   "outputs": [
    {
     "data": {
      "text/plain": [
       "Index(['id', 'listing_url', 'scrape_id', 'last_scraped', 'name', 'summary',\n",
       "       'space', 'description', 'experiences_offered', 'neighborhood_overview',\n",
       "       'notes', 'transit', 'access', 'interaction', 'house_rules',\n",
       "       'thumbnail_url', 'medium_url', 'picture_url', 'xl_picture_url',\n",
       "       'host_id', 'host_url', 'host_name', 'host_since', 'host_location',\n",
       "       'host_about', 'host_response_time', 'host_response_rate',\n",
       "       'host_acceptance_rate', 'host_is_superhost', 'host_thumbnail_url',\n",
       "       'host_picture_url', 'host_neighbourhood', 'host_listings_count',\n",
       "       'host_total_listings_count', 'host_verifications',\n",
       "       'host_has_profile_pic', 'host_identity_verified', 'street',\n",
       "       'neighbourhood', 'neighbourhood_cleansed',\n",
       "       'neighbourhood_group_cleansed', 'city', 'state', 'zipcode', 'market',\n",
       "       'smart_location', 'country_code', 'country', 'latitude', 'longitude',\n",
       "       'is_location_exact', 'property_type', 'room_type', 'accommodates',\n",
       "       'bathrooms', 'bedrooms', 'beds', 'bed_type', 'amenities', 'square_feet',\n",
       "       'price', 'weekly_price', 'monthly_price', 'security_deposit',\n",
       "       'cleaning_fee', 'guests_included', 'extra_people', 'minimum_nights',\n",
       "       'maximum_nights', 'calendar_updated', 'has_availability',\n",
       "       'availability_30', 'availability_60', 'availability_90',\n",
       "       'availability_365', 'calendar_last_scraped', 'number_of_reviews',\n",
       "       'first_review', 'last_review', 'review_scores_rating',\n",
       "       'review_scores_accuracy', 'review_scores_cleanliness',\n",
       "       'review_scores_checkin', 'review_scores_communication',\n",
       "       'review_scores_location', 'review_scores_value', 'requires_license',\n",
       "       'license', 'jurisdiction_names', 'instant_bookable',\n",
       "       'is_business_travel_ready', 'cancellation_policy',\n",
       "       'require_guest_profile_picture', 'require_guest_phone_verification',\n",
       "       'calculated_host_listings_count', 'reviews_per_month'],\n",
       "      dtype='object')"
      ]
     },
     "execution_count": 12,
     "metadata": {},
     "output_type": "execute_result"
    }
   ],
   "source": [
    "df.columns"
   ]
  },
  {
   "cell_type": "code",
   "execution_count": 7,
   "metadata": {},
   "outputs": [],
   "source": [
    "total_columns = df.columns"
   ]
  },
  {
   "cell_type": "code",
   "execution_count": 8,
   "metadata": {},
   "outputs": [
    {
     "data": {
      "text/plain": [
       "Index(['neighbourhood_cleansed', 'room_type', 'accommodates', 'bedrooms',\n",
       "       'beds', 'price', 'availability_30', 'number_of_reviews',\n",
       "       'review_scores_rating', 'instant_bookable', 'cancellation_policy',\n",
       "       'reviews_per_month'],\n",
       "      dtype='object')"
      ]
     },
     "execution_count": 8,
     "metadata": {},
     "output_type": "execute_result"
    }
   ],
   "source": [
    "total_columns "
   ]
  },
  {
   "cell_type": "code",
   "execution_count": null,
   "metadata": {},
   "outputs": [],
   "source": [
    "len(total_columns)"
   ]
  },
  {
   "cell_type": "code",
   "execution_count": null,
   "metadata": {
    "scrolled": true
   },
   "outputs": [],
   "source": [
    "nb_counts = Counter(df.neighbourhood_cleansed)\n",
    "tdf = pd.DataFrame.from_dict(nb_counts, orient='index').sort_values(by=0)\n",
    "tdf.plot(kind='bar',figsize=(20, 10))\n"
   ]
  },
  {
   "cell_type": "code",
   "execution_count": null,
   "metadata": {},
   "outputs": [],
   "source": [
    "# the number of entries with 0 'number_of_reviews' which do not a NaN for 'reviews_per_month'\n",
    "##len(df[(df.number_of_reviews == 0) & (pd.isnull(df.number_of_reviews) == False)\n",
    "      # & (pd.isnull(df.reviews_per_month) == False)].index)"
   ]
  },
  {
   "cell_type": "code",
   "execution_count": null,
   "metadata": {},
   "outputs": [],
   "source": [
    "#fill any NaN \n",
    "df['reviews_per_month'].fillna(0, inplace=True)\n",
    "\n",
    "# drop rows that have zeroes; won't have a huge impact \n",
    "df = df[df.bedrooms != 0]\n",
    "df = df[df.beds != 0]\n",
    "df = df[df.price != 0]\n",
    "df = df.dropna(axis=0)\n",
    "\n",
    "len(df.index)"
   ]
  },
  {
   "cell_type": "code",
   "execution_count": null,
   "metadata": {},
   "outputs": [],
   "source": [
    "df = df[df.bedrooms == 1]\n",
    "len(df.index)"
   ]
  },
  {
   "cell_type": "code",
   "execution_count": null,
   "metadata": {},
   "outputs": [],
   "source": [
    "# remove the $ from the price and convert to float\n",
    "df['price'] = df['price'].replace('[\\$,)]','',  \\\n",
    "        regex=True).replace('[(]','-', regex=True).astype(float)\n",
    "df.price.head(5)"
   ]
  },
  {
   "cell_type": "code",
   "execution_count": null,
   "metadata": {},
   "outputs": [],
   "source": [
    "# get dummies \n",
    "n_dummies = pd.get_dummies(df.neighbourhood_cleansed)\n",
    "rt_dummies = pd.get_dummies(df.room_type)\n",
    "xcl_dummies = pd.get_dummies(df.cancellation_policy)\n",
    "\n",
    "# make into boolean values for instant bookable \n",
    "ib_dummies = pd.get_dummies(df.instant_bookable, prefix=\"instant\")\n",
    "ib_dummies = ib_dummies.drop('instant_f', axis=1)\n",
    "\n",
    "# input dummies and drop original columns\n",
    "alldata = pd.concat((df.drop(['neighbourhood_cleansed', \\\n",
    "    'room_type', 'cancellation_policy', 'instant_bookable'], axis=1), \\\n",
    "    n_dummies.astype(int), rt_dummies.astype(int), \\\n",
    "    xcl_dummies.astype(int), ib_dummies.astype(int)), \\\n",
    "    axis=1)\n",
    "allcols = alldata.columns\n",
    "alldata.head(5)"
   ]
  },
  {
   "cell_type": "code",
   "execution_count": null,
   "metadata": {},
   "outputs": [],
   "source": [
    "scattercols = ['price','accommodates', 'number_of_reviews', 'reviews_per_month', 'beds', 'review_scores_rating']\n",
    "axs = pd.scatter_matrix(alldata[scattercols],\n",
    "                        figsize=(12, 12), c='purple')\n"
   ]
  },
  {
   "cell_type": "code",
   "execution_count": null,
   "metadata": {},
   "outputs": [],
   "source": [
    "rs  = 1\n",
    "tests  =  [linear_model.LinearRegression(), linear_model.Ridge(),\n",
    "        linear_model.Lasso(),\n",
    "        linear_model.BayesianRidge()]\n",
    "test_labels = np.array(['Linear', 'Ridge', 'Lasso', 'BayesRidge'])\n",
    "error_values = np.array([])\n",
    "\n",
    "X_train, X_test, y_train, y_test = train_test_split(alldata.drop(['price'], axis=1),\n",
    "                                                    alldata.price, test_size=0.2, random_state=20)\n",
    "\n",
    "for t in tests:\n",
    "    t.fit(X_train, y_train)\n",
    "    this_error = metrics.median_absolute_error(y_test, t.predict(X_test))\n",
    "    #print \"got error %0.2f\" % this_err\n",
    "    error_values = np.append(error_values, this_error)\n",
    "\n",
    "pos = np.arange(error_values.shape[0])\n",
    "srt = np.argsort(error_values)\n",
    "plt.figure(figsize=(7,5))\n",
    "plt.bar(pos, error_values[srt], align='center')\n",
    "plt.xticks(pos, test_labels[srt])\n",
    "plt.xlabel('Estimator')\n",
    "plt.ylabel('Median Absolute Error')"
   ]
  },
  {
   "cell_type": "code",
   "execution_count": null,
   "metadata": {},
   "outputs": [],
   "source": [
    "n_test = 300\n",
    "\n",
    "tuned_parameters = {\n",
    "    \"n_estimators\": [ n_test ],\n",
    "    \"max_depth\" : [ 4 ],\n",
    "    \"learning_rate\": [ 0.01 ],\n",
    "    \"min_samples_split\" : [ 1.0 ],\n",
    "    \"loss\" : [ 'ls', 'lad' ]\n",
    "}\n",
    "\n",
    "gradient_boosting_regressor = ensemble.GradientBoostingRegressor()\n",
    "clf = GridSearchCV(gradient_boosting_regressor, cv=3, param_grid=tuned_parameters,\n",
    "        scoring='median_absolute_error')\n",
    "predict = clf.fit(X_train, y_train)\n",
    "best = clf.best_estimator_\n",
    "best"
   ]
  },
  {
   "cell_type": "code",
   "execution_count": null,
   "metadata": {},
   "outputs": [],
   "source": [
    "abs(clf.best_score_)\n"
   ]
  },
  {
   "cell_type": "code",
   "execution_count": null,
   "metadata": {},
   "outputs": [],
   "source": [
    "\n",
    "# plot error for each round of boosting# plot er \n",
    "test_score = np.zeros(n_test, dtype=np.float64)\n",
    "\n",
    "train_score = best.train_score_\n",
    "for i, y_pred in enumerate(best.staged_predict(X_test)):\n",
    "    test_score[i] = best.loss_(y_test, y_pred)\n",
    "\n",
    "plt.figure(figsize=(12, 6))\n",
    "plt.subplot(1, 2, 1)\n",
    "plt.plot(np.arange(n_test), train_score, 'darkblue', label='Training Set Error')\n",
    "plt.plot(np.arange(n_test), test_score, 'red', label='Test Set Error')\n",
    "plt.legend(loc='upper right')\n",
    "plt.xlabel('Boosting Iterations')\n",
    "plt.ylabel('Least Absolute Deviation')\n",
    "\n"
   ]
  },
  {
   "cell_type": "code",
   "execution_count": null,
   "metadata": {},
   "outputs": [],
   "source": [
    "feature_importance = clf.best_estimator_.feature_importances_\n",
    "# make importances relative to max importance\n",
    "feature_importance = 100.0 * (feature_importance / feature_importance.max())\n",
    "sorted_idx = np.argsort(feature_importance)\n",
    "pos = np.arange(sorted_idx.shape[0]) + .5\n",
    "pvals = feature_importance[sorted_idx]\n",
    "pcols = X_train.columns[sorted_idx]\n",
    "plt.figure(figsize=(15,25))\n",
    "plt.barh(pos, pvals, align='center')\n",
    "plt.yticks(pos, pcols)\n",
    "plt.xlabel('Relative Importance')\n",
    "plt.title('Variable Importance')"
   ]
  },
  {
   "cell_type": "code",
   "execution_count": null,
   "metadata": {},
   "outputs": [],
   "source": [
    "# TODO: Minimum price of the data\n",
    "minimum_price = np.min(df['price'])\n",
    "# Alternative using pandas\n",
    "# minimum_price = prices.min()\n",
    "\n",
    "# TODO: Maximum price of the data\n",
    "maximum_price = np.max(df['price'])\n",
    "# Alternative using pandas\n",
    "# maximum_price = prices.max()\n",
    "\n",
    "# TODO: Mean price of the data\n",
    "mean_price = np.mean(df['price'])\n",
    "# Alternative using pandas\n",
    "# mean_price = prices.mean()\n",
    "\n",
    "# TODO: Median price of the data\n",
    "median_price = np.median(df['price'])\n",
    "# Alternative using pandas\n",
    "# median_price = prices.median()\n",
    "\n",
    "# TODO: Standard deviation of prices of the data\n",
    "std_price = np.std(df['price'])\n",
    "# Alternative using pandas \n",
    "# std_price = prices.std(ddof=0)\n",
    "\n",
    "# There are other statistics you can calculate too like quartiles\n",
    "first_quartile = np.percentile(df['price'], 25)\n",
    "third_quartile = np.percentile(df['price'], 75)\n",
    "inter_quartile = third_quartile - first_quartile\n",
    "\n",
    "# Show the calculated statistics\n",
    "print (\"Statistics for Boston housing dataset:\\n\")\n",
    "print (\"Minimum price: ${:,.2f}\".format(minimum_price))\n",
    "print (\"Maximum price: ${:,.2f}\".format(maximum_price))\n",
    "print (\"Mean price: ${:,.2f}\".format(mean_price))\n",
    "print (\"Median price ${:,.2f}\".format(median_price))\n",
    "print (\"Standard deviation of prices: ${:,.2f}\".format(std_price))\n",
    "print (\"First quartile of prices: ${:,.2f}\".format(first_quartile))\n",
    "print (\"Second quartile of prices: ${:,.2f}\".format(third_quartile))\n",
    "print (\"Interquartile (IQR) of prices: ${:,.2f}\".format(inter_quartile))"
   ]
  },
  {
   "cell_type": "code",
   "execution_count": null,
   "metadata": {},
   "outputs": [],
   "source": []
  }
 ],
 "metadata": {
  "kernelspec": {
   "display_name": "Python 3",
   "language": "python",
   "name": "python3"
  },
  "language_info": {
   "codemirror_mode": {
    "name": "ipython",
    "version": 3
   },
   "file_extension": ".py",
   "mimetype": "text/x-python",
   "name": "python",
   "nbconvert_exporter": "python",
   "pygments_lexer": "ipython3",
   "version": "3.6.4"
  }
 },
 "nbformat": 4,
 "nbformat_minor": 2
}
