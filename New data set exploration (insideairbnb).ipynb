{
 "cells": [
  {
   "cell_type": "code",
   "execution_count": 23,
   "metadata": {},
   "outputs": [
    {
     "name": "stderr",
     "output_type": "stream",
     "text": [
      "/Users/swatimakhija/anaconda3/lib/python3.6/site-packages/sklearn/cross_validation.py:41: DeprecationWarning: This module was deprecated in version 0.18 in favor of the model_selection module into which all the refactored classes and functions are moved. Also note that the interface of the new CV iterators are different from that of this module. This module will be removed in 0.20.\n",
      "  \"This module will be removed in 0.20.\", DeprecationWarning)\n",
      "/Users/swatimakhija/anaconda3/lib/python3.6/site-packages/sklearn/grid_search.py:42: DeprecationWarning: This module was deprecated in version 0.18 in favor of the model_selection module into which all the refactored classes and functions are moved. This module will be removed in 0.20.\n",
      "  DeprecationWarning)\n"
     ]
    }
   ],
   "source": [
    "import numpy as np \n",
    "import pandas as pd \n",
    "\n",
    "%matplotlib inline\n",
    "import matplotlib.pyplot as plt\n",
    "import geopandas as gpd\n",
    "\n",
    "\n",
    "\n",
    "from sklearn import ensemble\n",
    "from sklearn import linear_model\n",
    "from sklearn.grid_search import GridSearchCV\n",
    "from sklearn import preprocessing\n",
    "from sklearn.cross_validation import train_test_split\n",
    "import sklearn.metrics as metrics\n",
    "from collections import Counter"
   ]
  },
  {
   "cell_type": "code",
   "execution_count": 5,
   "metadata": {},
   "outputs": [
    {
     "name": "stderr",
     "output_type": "stream",
     "text": [
      "/Users/swatimakhija/anaconda3/lib/python3.6/site-packages/IPython/core/interactiveshell.py:2728: DtypeWarning: Columns (43) have mixed types. Specify dtype option on import or set low_memory=False.\n",
      "  interactivity=interactivity, compiler=compiler, result=result)\n"
     ]
    }
   ],
   "source": [
    "df = pd.read_csv(\"data/listings.csv\", error_bad_lines=False) "
   ]
  },
  {
   "cell_type": "code",
   "execution_count": 6,
   "metadata": {},
   "outputs": [
    {
     "data": {
      "text/plain": [
       "Index(['id', 'listing_url', 'scrape_id', 'last_scraped', 'name', 'summary',\n",
       "       'space', 'description', 'experiences_offered', 'neighborhood_overview',\n",
       "       'notes', 'transit', 'access', 'interaction', 'house_rules',\n",
       "       'thumbnail_url', 'medium_url', 'picture_url', 'xl_picture_url',\n",
       "       'host_id', 'host_url', 'host_name', 'host_since', 'host_location',\n",
       "       'host_about', 'host_response_time', 'host_response_rate',\n",
       "       'host_acceptance_rate', 'host_is_superhost', 'host_thumbnail_url',\n",
       "       'host_picture_url', 'host_neighbourhood', 'host_listings_count',\n",
       "       'host_total_listings_count', 'host_verifications',\n",
       "       'host_has_profile_pic', 'host_identity_verified', 'street',\n",
       "       'neighbourhood', 'neighbourhood_cleansed',\n",
       "       'neighbourhood_group_cleansed', 'city', 'state', 'zipcode', 'market',\n",
       "       'smart_location', 'country_code', 'country', 'latitude', 'longitude',\n",
       "       'is_location_exact', 'property_type', 'room_type', 'accommodates',\n",
       "       'bathrooms', 'bedrooms', 'beds', 'bed_type', 'amenities', 'square_feet',\n",
       "       'price', 'weekly_price', 'monthly_price', 'security_deposit',\n",
       "       'cleaning_fee', 'guests_included', 'extra_people', 'minimum_nights',\n",
       "       'maximum_nights', 'calendar_updated', 'has_availability',\n",
       "       'availability_30', 'availability_60', 'availability_90',\n",
       "       'availability_365', 'calendar_last_scraped', 'number_of_reviews',\n",
       "       'first_review', 'last_review', 'review_scores_rating',\n",
       "       'review_scores_accuracy', 'review_scores_cleanliness',\n",
       "       'review_scores_checkin', 'review_scores_communication',\n",
       "       'review_scores_location', 'review_scores_value', 'requires_license',\n",
       "       'license', 'jurisdiction_names', 'instant_bookable',\n",
       "       'is_business_travel_ready', 'cancellation_policy',\n",
       "       'require_guest_profile_picture', 'require_guest_phone_verification',\n",
       "       'calculated_host_listings_count', 'reviews_per_month'],\n",
       "      dtype='object')"
      ]
     },
     "execution_count": 6,
     "metadata": {},
     "output_type": "execute_result"
    }
   ],
   "source": [
    "df.columns"
   ]
  },
  {
   "cell_type": "code",
   "execution_count": 9,
   "metadata": {},
   "outputs": [
    {
     "data": {
      "text/plain": [
       "(8290, 96)"
      ]
     },
     "execution_count": 9,
     "metadata": {},
     "output_type": "execute_result"
    }
   ],
   "source": [
    "df.shape\n"
   ]
  },
  {
   "cell_type": "code",
   "execution_count": 10,
   "metadata": {},
   "outputs": [
    {
     "data": {
      "text/plain": [
       "id                                     0\n",
       "listing_url                            0\n",
       "scrape_id                              0\n",
       "last_scraped                           0\n",
       "name                                   0\n",
       "summary                              427\n",
       "space                               1816\n",
       "description                           26\n",
       "experiences_offered                    0\n",
       "neighborhood_overview               2533\n",
       "notes                               3574\n",
       "transit                             2581\n",
       "access                              2539\n",
       "interaction                         2404\n",
       "house_rules                         1866\n",
       "thumbnail_url                       8290\n",
       "medium_url                          8290\n",
       "picture_url                            0\n",
       "xl_picture_url                      8290\n",
       "host_id                                0\n",
       "host_url                               0\n",
       "host_name                              0\n",
       "host_since                             0\n",
       "host_location                         21\n",
       "host_about                          2222\n",
       "host_response_time                  1345\n",
       "host_response_rate                  1345\n",
       "host_acceptance_rate                8290\n",
       "host_is_superhost                      0\n",
       "host_thumbnail_url                     0\n",
       "                                    ... \n",
       "extra_people                           0\n",
       "minimum_nights                         0\n",
       "maximum_nights                         0\n",
       "calendar_updated                       0\n",
       "has_availability                       0\n",
       "availability_30                        0\n",
       "availability_60                        0\n",
       "availability_90                        0\n",
       "availability_365                       0\n",
       "calendar_last_scraped                  0\n",
       "number_of_reviews                      0\n",
       "first_review                        1017\n",
       "last_review                         1017\n",
       "review_scores_rating                1089\n",
       "review_scores_accuracy              1093\n",
       "review_scores_cleanliness           1092\n",
       "review_scores_checkin               1095\n",
       "review_scores_communication         1093\n",
       "review_scores_location              1095\n",
       "review_scores_value                 1094\n",
       "requires_license                       0\n",
       "license                             8286\n",
       "jurisdiction_names                    59\n",
       "instant_bookable                       0\n",
       "is_business_travel_ready               0\n",
       "cancellation_policy                    0\n",
       "require_guest_profile_picture          0\n",
       "require_guest_phone_verification       0\n",
       "calculated_host_listings_count         0\n",
       "reviews_per_month                   1017\n",
       "Length: 96, dtype: int64"
      ]
     },
     "execution_count": 10,
     "metadata": {},
     "output_type": "execute_result"
    }
   ],
   "source": [
    "df.isnull().sum()"
   ]
  },
  {
   "cell_type": "code",
   "execution_count": 11,
   "metadata": {},
   "outputs": [],
   "source": [
    "df = df.drop(columns = ['thumbnail_url', 'medium_url', 'license', 'host_acceptance_rate', 'xl_picture_url' ])"
   ]
  },
  {
   "cell_type": "code",
   "execution_count": 12,
   "metadata": {},
   "outputs": [
    {
     "data": {
      "text/plain": [
       "id                                     0\n",
       "listing_url                            0\n",
       "scrape_id                              0\n",
       "last_scraped                           0\n",
       "name                                   0\n",
       "summary                              427\n",
       "space                               1816\n",
       "description                           26\n",
       "experiences_offered                    0\n",
       "neighborhood_overview               2533\n",
       "notes                               3574\n",
       "transit                             2581\n",
       "access                              2539\n",
       "interaction                         2404\n",
       "house_rules                         1866\n",
       "picture_url                            0\n",
       "host_id                                0\n",
       "host_url                               0\n",
       "host_name                              0\n",
       "host_since                             0\n",
       "host_location                         21\n",
       "host_about                          2222\n",
       "host_response_time                  1345\n",
       "host_response_rate                  1345\n",
       "host_is_superhost                      0\n",
       "host_thumbnail_url                     0\n",
       "host_picture_url                       0\n",
       "host_neighbourhood                   945\n",
       "host_listings_count                    0\n",
       "host_total_listings_count              0\n",
       "                                    ... \n",
       "guests_included                        0\n",
       "extra_people                           0\n",
       "minimum_nights                         0\n",
       "maximum_nights                         0\n",
       "calendar_updated                       0\n",
       "has_availability                       0\n",
       "availability_30                        0\n",
       "availability_60                        0\n",
       "availability_90                        0\n",
       "availability_365                       0\n",
       "calendar_last_scraped                  0\n",
       "number_of_reviews                      0\n",
       "first_review                        1017\n",
       "last_review                         1017\n",
       "review_scores_rating                1089\n",
       "review_scores_accuracy              1093\n",
       "review_scores_cleanliness           1092\n",
       "review_scores_checkin               1095\n",
       "review_scores_communication         1093\n",
       "review_scores_location              1095\n",
       "review_scores_value                 1094\n",
       "requires_license                       0\n",
       "jurisdiction_names                    59\n",
       "instant_bookable                       0\n",
       "is_business_travel_ready               0\n",
       "cancellation_policy                    0\n",
       "require_guest_profile_picture          0\n",
       "require_guest_phone_verification       0\n",
       "calculated_host_listings_count         0\n",
       "reviews_per_month                   1017\n",
       "Length: 91, dtype: int64"
      ]
     },
     "execution_count": 12,
     "metadata": {},
     "output_type": "execute_result"
    }
   ],
   "source": [
    "df.isnull().sum()"
   ]
  },
  {
   "cell_type": "code",
   "execution_count": 14,
   "metadata": {},
   "outputs": [
    {
     "data": {
      "text/plain": [
       "0    $296.00\n",
       "1     $82.00\n",
       "2     $48.00\n",
       "3     $90.00\n",
       "4     $70.00\n",
       "Name: price, dtype: object"
      ]
     },
     "execution_count": 14,
     "metadata": {},
     "output_type": "execute_result"
    }
   ],
   "source": [
    "df['price'].head()\n"
   ]
  },
  {
   "cell_type": "code",
   "execution_count": 15,
   "metadata": {},
   "outputs": [
    {
     "data": {
      "text/html": [
       "<div>\n",
       "<style scoped>\n",
       "    .dataframe tbody tr th:only-of-type {\n",
       "        vertical-align: middle;\n",
       "    }\n",
       "\n",
       "    .dataframe tbody tr th {\n",
       "        vertical-align: top;\n",
       "    }\n",
       "\n",
       "    .dataframe thead th {\n",
       "        text-align: right;\n",
       "    }\n",
       "</style>\n",
       "<table border=\"1\" class=\"dataframe\">\n",
       "  <thead>\n",
       "    <tr style=\"text-align: right;\">\n",
       "      <th></th>\n",
       "      <th>id</th>\n",
       "      <th>listing_url</th>\n",
       "      <th>scrape_id</th>\n",
       "      <th>last_scraped</th>\n",
       "      <th>name</th>\n",
       "      <th>summary</th>\n",
       "      <th>space</th>\n",
       "      <th>description</th>\n",
       "      <th>experiences_offered</th>\n",
       "      <th>neighborhood_overview</th>\n",
       "      <th>...</th>\n",
       "      <th>review_scores_value</th>\n",
       "      <th>requires_license</th>\n",
       "      <th>jurisdiction_names</th>\n",
       "      <th>instant_bookable</th>\n",
       "      <th>is_business_travel_ready</th>\n",
       "      <th>cancellation_policy</th>\n",
       "      <th>require_guest_profile_picture</th>\n",
       "      <th>require_guest_phone_verification</th>\n",
       "      <th>calculated_host_listings_count</th>\n",
       "      <th>reviews_per_month</th>\n",
       "    </tr>\n",
       "  </thead>\n",
       "  <tbody>\n",
       "    <tr>\n",
       "      <th>0</th>\n",
       "      <td>2318</td>\n",
       "      <td>https://www.airbnb.com/rooms/2318</td>\n",
       "      <td>20180717023704</td>\n",
       "      <td>2018-07-17</td>\n",
       "      <td>Casa Madrona - Urban Oasis, 1 block from the P...</td>\n",
       "      <td>Gorgeous, architect remodeled, 1917 Dutch Colo...</td>\n",
       "      <td>Casa Madrona is a gorgeous, architect remodele...</td>\n",
       "      <td>Gorgeous, architect remodeled, 1917 Dutch Colo...</td>\n",
       "      <td>none</td>\n",
       "      <td>NaN</td>\n",
       "      <td>...</td>\n",
       "      <td>10.0</td>\n",
       "      <td>f</td>\n",
       "      <td>{WASHINGTON}</td>\n",
       "      <td>t</td>\n",
       "      <td>f</td>\n",
       "      <td>strict_14_with_grace_period</td>\n",
       "      <td>f</td>\n",
       "      <td>f</td>\n",
       "      <td>2</td>\n",
       "      <td>0.16</td>\n",
       "    </tr>\n",
       "    <tr>\n",
       "      <th>1</th>\n",
       "      <td>4291</td>\n",
       "      <td>https://www.airbnb.com/rooms/4291</td>\n",
       "      <td>20180717023704</td>\n",
       "      <td>2018-07-17</td>\n",
       "      <td>Sunrise in Seattle Master Suite</td>\n",
       "      <td>This property is located in the lovely Maple L...</td>\n",
       "      <td>Located in Seattle, this is a spacious, clean ...</td>\n",
       "      <td>This property is located in the lovely Maple L...</td>\n",
       "      <td>none</td>\n",
       "      <td>NaN</td>\n",
       "      <td>...</td>\n",
       "      <td>9.0</td>\n",
       "      <td>f</td>\n",
       "      <td>{WASHINGTON}</td>\n",
       "      <td>f</td>\n",
       "      <td>f</td>\n",
       "      <td>moderate</td>\n",
       "      <td>f</td>\n",
       "      <td>f</td>\n",
       "      <td>5</td>\n",
       "      <td>0.88</td>\n",
       "    </tr>\n",
       "    <tr>\n",
       "      <th>2</th>\n",
       "      <td>5682</td>\n",
       "      <td>https://www.airbnb.com/rooms/5682</td>\n",
       "      <td>20180717023704</td>\n",
       "      <td>2018-07-17</td>\n",
       "      <td>Cozy Studio, min. to downtown -WiFi</td>\n",
       "      <td>The Cozy Studio is a perfect launchpad for you...</td>\n",
       "      <td>Hello fellow travelers, Save some money and ha...</td>\n",
       "      <td>The Cozy Studio is a perfect launchpad for you...</td>\n",
       "      <td>none</td>\n",
       "      <td>NaN</td>\n",
       "      <td>...</td>\n",
       "      <td>10.0</td>\n",
       "      <td>f</td>\n",
       "      <td>{WASHINGTON}</td>\n",
       "      <td>f</td>\n",
       "      <td>f</td>\n",
       "      <td>strict_14_with_grace_period</td>\n",
       "      <td>f</td>\n",
       "      <td>t</td>\n",
       "      <td>1</td>\n",
       "      <td>4.34</td>\n",
       "    </tr>\n",
       "    <tr>\n",
       "      <th>3</th>\n",
       "      <td>6606</td>\n",
       "      <td>https://www.airbnb.com/rooms/6606</td>\n",
       "      <td>20180717023704</td>\n",
       "      <td>2018-07-17</td>\n",
       "      <td>Fab, private seattle urban cottage!</td>\n",
       "      <td>NaN</td>\n",
       "      <td>Soo centrally located, this is a little house ...</td>\n",
       "      <td>Soo centrally located, this is a little house ...</td>\n",
       "      <td>none</td>\n",
       "      <td>A peaceful yet highly accessible neighborhood,...</td>\n",
       "      <td>...</td>\n",
       "      <td>9.0</td>\n",
       "      <td>f</td>\n",
       "      <td>{WASHINGTON}</td>\n",
       "      <td>f</td>\n",
       "      <td>f</td>\n",
       "      <td>strict_14_with_grace_period</td>\n",
       "      <td>f</td>\n",
       "      <td>f</td>\n",
       "      <td>3</td>\n",
       "      <td>1.11</td>\n",
       "    </tr>\n",
       "    <tr>\n",
       "      <th>4</th>\n",
       "      <td>9419</td>\n",
       "      <td>https://www.airbnb.com/rooms/9419</td>\n",
       "      <td>20180717023704</td>\n",
       "      <td>2018-07-17</td>\n",
       "      <td>Glorious sun room w/ memory foambed</td>\n",
       "      <td>This beautiful double room features a magical ...</td>\n",
       "      <td>Our new Sunny space has a private room from th...</td>\n",
       "      <td>This beautiful double room features a magical ...</td>\n",
       "      <td>none</td>\n",
       "      <td>Lots of restaurants (see our guide book) bars,...</td>\n",
       "      <td>...</td>\n",
       "      <td>9.0</td>\n",
       "      <td>f</td>\n",
       "      <td>{WASHINGTON}</td>\n",
       "      <td>f</td>\n",
       "      <td>f</td>\n",
       "      <td>moderate</td>\n",
       "      <td>t</td>\n",
       "      <td>t</td>\n",
       "      <td>5</td>\n",
       "      <td>1.26</td>\n",
       "    </tr>\n",
       "  </tbody>\n",
       "</table>\n",
       "<p>5 rows × 91 columns</p>\n",
       "</div>"
      ],
      "text/plain": [
       "     id                        listing_url       scrape_id last_scraped  \\\n",
       "0  2318  https://www.airbnb.com/rooms/2318  20180717023704   2018-07-17   \n",
       "1  4291  https://www.airbnb.com/rooms/4291  20180717023704   2018-07-17   \n",
       "2  5682  https://www.airbnb.com/rooms/5682  20180717023704   2018-07-17   \n",
       "3  6606  https://www.airbnb.com/rooms/6606  20180717023704   2018-07-17   \n",
       "4  9419  https://www.airbnb.com/rooms/9419  20180717023704   2018-07-17   \n",
       "\n",
       "                                                name  \\\n",
       "0  Casa Madrona - Urban Oasis, 1 block from the P...   \n",
       "1                    Sunrise in Seattle Master Suite   \n",
       "2                Cozy Studio, min. to downtown -WiFi   \n",
       "3                Fab, private seattle urban cottage!   \n",
       "4                Glorious sun room w/ memory foambed   \n",
       "\n",
       "                                             summary  \\\n",
       "0  Gorgeous, architect remodeled, 1917 Dutch Colo...   \n",
       "1  This property is located in the lovely Maple L...   \n",
       "2  The Cozy Studio is a perfect launchpad for you...   \n",
       "3                                                NaN   \n",
       "4  This beautiful double room features a magical ...   \n",
       "\n",
       "                                               space  \\\n",
       "0  Casa Madrona is a gorgeous, architect remodele...   \n",
       "1  Located in Seattle, this is a spacious, clean ...   \n",
       "2  Hello fellow travelers, Save some money and ha...   \n",
       "3  Soo centrally located, this is a little house ...   \n",
       "4  Our new Sunny space has a private room from th...   \n",
       "\n",
       "                                         description experiences_offered  \\\n",
       "0  Gorgeous, architect remodeled, 1917 Dutch Colo...                none   \n",
       "1  This property is located in the lovely Maple L...                none   \n",
       "2  The Cozy Studio is a perfect launchpad for you...                none   \n",
       "3  Soo centrally located, this is a little house ...                none   \n",
       "4  This beautiful double room features a magical ...                none   \n",
       "\n",
       "                               neighborhood_overview        ...         \\\n",
       "0                                                NaN        ...          \n",
       "1                                                NaN        ...          \n",
       "2                                                NaN        ...          \n",
       "3  A peaceful yet highly accessible neighborhood,...        ...          \n",
       "4  Lots of restaurants (see our guide book) bars,...        ...          \n",
       "\n",
       "  review_scores_value requires_license jurisdiction_names instant_bookable  \\\n",
       "0                10.0                f       {WASHINGTON}                t   \n",
       "1                 9.0                f       {WASHINGTON}                f   \n",
       "2                10.0                f       {WASHINGTON}                f   \n",
       "3                 9.0                f       {WASHINGTON}                f   \n",
       "4                 9.0                f       {WASHINGTON}                f   \n",
       "\n",
       "  is_business_travel_ready          cancellation_policy  \\\n",
       "0                        f  strict_14_with_grace_period   \n",
       "1                        f                     moderate   \n",
       "2                        f  strict_14_with_grace_period   \n",
       "3                        f  strict_14_with_grace_period   \n",
       "4                        f                     moderate   \n",
       "\n",
       "   require_guest_profile_picture require_guest_phone_verification  \\\n",
       "0                              f                                f   \n",
       "1                              f                                f   \n",
       "2                              f                                t   \n",
       "3                              f                                f   \n",
       "4                              t                                t   \n",
       "\n",
       "  calculated_host_listings_count reviews_per_month  \n",
       "0                              2              0.16  \n",
       "1                              5              0.88  \n",
       "2                              1              4.34  \n",
       "3                              3              1.11  \n",
       "4                              5              1.26  \n",
       "\n",
       "[5 rows x 91 columns]"
      ]
     },
     "execution_count": 15,
     "metadata": {},
     "output_type": "execute_result"
    }
   ],
   "source": [
    "df.head()"
   ]
  },
  {
   "cell_type": "code",
   "execution_count": 16,
   "metadata": {},
   "outputs": [
    {
     "data": {
      "text/plain": [
       "0       Seattle, WA\n",
       "1       Seattle, WA\n",
       "2       Seattle, WA\n",
       "3       Seattle, WA\n",
       "4       Seattle, WA\n",
       "5       Seattle, WA\n",
       "6       Seattle, WA\n",
       "7       Seattle, WA\n",
       "8       Seattle, WA\n",
       "9       Seattle, WA\n",
       "10      Seattle, WA\n",
       "11      Seattle, WA\n",
       "12      Seattle, WA\n",
       "13      Seattle, WA\n",
       "14      Seattle, WA\n",
       "15      Seattle, WA\n",
       "16      Seattle, WA\n",
       "17      Seattle, WA\n",
       "18      Seattle, WA\n",
       "19      Seattle, WA\n",
       "20      Seattle, WA\n",
       "21      Seattle, WA\n",
       "22      Seattle, WA\n",
       "23      Seattle, WA\n",
       "24      Seattle, WA\n",
       "25      Seattle, WA\n",
       "26      Seattle, WA\n",
       "27      Seattle, WA\n",
       "28      Seattle, WA\n",
       "29      Seattle, WA\n",
       "           ...     \n",
       "8260    Seattle, WA\n",
       "8261    Seattle, WA\n",
       "8262    Seattle, WA\n",
       "8263    Seattle, WA\n",
       "8264    Seattle, WA\n",
       "8265    Seattle, WA\n",
       "8266    Seattle, WA\n",
       "8267    Seattle, WA\n",
       "8268    Seattle, WA\n",
       "8269    Seattle, WA\n",
       "8270    Seattle, WA\n",
       "8271    Seattle, WA\n",
       "8272    Seattle, WA\n",
       "8273    Seattle, WA\n",
       "8274    Seattle, WA\n",
       "8275    Seattle, WA\n",
       "8276    Seattle, WA\n",
       "8277    Seattle, WA\n",
       "8278    Seattle, WA\n",
       "8279    Seattle, WA\n",
       "8280    Seattle, WA\n",
       "8281    Seattle, WA\n",
       "8282    Seattle, WA\n",
       "8283    Seattle, WA\n",
       "8284    Seattle, WA\n",
       "8285    Seattle, WA\n",
       "8286    Seattle, WA\n",
       "8287    Seattle, WA\n",
       "8288    Seattle, WA\n",
       "8289    Seattle, WA\n",
       "Name: smart_location, Length: 8290, dtype: object"
      ]
     },
     "execution_count": 16,
     "metadata": {},
     "output_type": "execute_result"
    }
   ],
   "source": [
    "df['smart_location']"
   ]
  },
  {
   "cell_type": "code",
   "execution_count": 27,
   "metadata": {},
   "outputs": [
    {
     "data": {
      "text/plain": [
       "dtype('O')"
      ]
     },
     "execution_count": 27,
     "metadata": {},
     "output_type": "execute_result"
    }
   ],
   "source": [
    "df['price'].dtypes"
   ]
  },
  {
   "cell_type": "code",
   "execution_count": 28,
   "metadata": {},
   "outputs": [],
   "source": [
    "df['price'] = df['price'].replace('[\\$,)]','',  \\\n",
    "        regex=True).replace('[(]','-', regex=True).astype(float)"
   ]
  },
  {
   "cell_type": "code",
   "execution_count": 29,
   "metadata": {},
   "outputs": [
    {
     "data": {
      "text/plain": [
       "dtype('float64')"
      ]
     },
     "execution_count": 29,
     "metadata": {},
     "output_type": "execute_result"
    }
   ],
   "source": [
    "df['price'].dtypes"
   ]
  },
  {
   "cell_type": "code",
   "execution_count": null,
   "metadata": {},
   "outputs": [],
   "source": []
  }
 ],
 "metadata": {
  "kernelspec": {
   "display_name": "Python 3",
   "language": "python",
   "name": "python3"
  },
  "language_info": {
   "codemirror_mode": {
    "name": "ipython",
    "version": 3
   },
   "file_extension": ".py",
   "mimetype": "text/x-python",
   "name": "python",
   "nbconvert_exporter": "python",
   "pygments_lexer": "ipython3",
   "version": "3.6.4"
  }
 },
 "nbformat": 4,
 "nbformat_minor": 2
}
